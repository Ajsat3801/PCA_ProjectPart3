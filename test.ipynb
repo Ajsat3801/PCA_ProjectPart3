{
 "cells": [
  {
   "cell_type": "code",
   "execution_count": 4,
   "metadata": {},
   "outputs": [
    {
     "data": {
      "text/plain": [
       "False"
      ]
     },
     "execution_count": 4,
     "metadata": {},
     "output_type": "execute_result"
    }
   ],
   "source": [
    "Resources = {'Adder': [None, 0], 'Multiplier': [None, 0], 'Divider': [None, 0], 'Shuffle': [None, 0], 'Memory': [None, 0], 'Scalar': [None, 0]}\n",
    "\n",
    "endCondition = True\n",
    "for resource in Resources:\n",
    "    if Resources[resource][0] is not None: endCondition = False\n",
    "endCondition"
   ]
  }
 ],
 "metadata": {
  "kernelspec": {
   "display_name": "Python 3",
   "language": "python",
   "name": "python3"
  },
  "language_info": {
   "codemirror_mode": {
    "name": "ipython",
    "version": 3
   },
   "file_extension": ".py",
   "mimetype": "text/x-python",
   "name": "python",
   "nbconvert_exporter": "python",
   "pygments_lexer": "ipython3",
   "version": "3.9.7"
  }
 },
 "nbformat": 4,
 "nbformat_minor": 2
}
